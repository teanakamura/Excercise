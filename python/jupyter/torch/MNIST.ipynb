{
 "cells": [
  {
   "cell_type": "code",
   "execution_count": 1,
   "metadata": {},
   "outputs": [],
   "source": [
    "import torch\n",
    "from torchvision import transforms, datasets\n",
    "\n",
    "transform = transforms.Compose(\n",
    "    [transforms.ToTensor(),\n",
    "        transforms.Normalize((0.5, ), (0.5, ))\n",
    "    ]\n",
    ")\n",
    "trainset = datasets.MNIST(\n",
    "    root='./data', \n",
    "    train=True,\n",
    "    download=True,\n",
    "    transform=transform\n",
    ")\n",
    "trainloader = torch.utils.data.DataLoader(\n",
    "    trainset,\n",
    "    batch_size=100,  # minibatchのbatch size\n",
    "    shuffle=True,\n",
    "    num_workers=2\n",
    ")\n",
    "testset = datasets.MNIST(\n",
    "    root='./data', \n",
    "    train=False, \n",
    "    download=True, \n",
    "    transform=transform\n",
    ")\n",
    "testloader = torch.utils.data.DataLoader(\n",
    "    testset, \n",
    "    batch_size=100,\n",
    "    shuffle=False, \n",
    "    num_workers=2\n",
    ")"
   ]
  },
  {
   "cell_type": "code",
   "execution_count": 27,
   "metadata": {},
   "outputs": [],
   "source": [
    "from torch import nn\n",
    "\n",
    "class Net(nn.Module):\n",
    "    def __init__(self):\n",
    "        super(Net, self).__init__()\n",
    "        self.conv1 = nn.Conv2d(1, 32, 3) # 28x28x1 -(3x3x32)-> 26x26x32  # 2D convolution\n",
    "        self.conv2 = nn.Conv2d(32, 64, 3) # 26x26x32 -(3x3x2)-> 24x24x64  # 2D convolution\n",
    "        self.pool = nn.MaxPool2d(2, 2) # 24x24x64 -> 12x12x64\n",
    "        self.fc1 = nn.Linear(12 * 12 * 64, 128)\n",
    "        self.fc2 = nn.Linear(128, 10)\n",
    "        self.dropout05 = nn.Dropout2d() # default: p = 0.5\n",
    "        self.dropout02 = nn.Dropout2d(p=0.2)\n",
    "\n",
    "    def forward(self, x):\n",
    "        self.dropout02(x) # 入力層はdropout ratio: 0.2\n",
    "        x = nn.functional.relu(self.conv1(x))\n",
    "        self.dropout02(x) # 全結合層以外はdropout ratio: 0.2\n",
    "        x = nn.functional.relu(self.conv2(x))\n",
    "        self.dropout05(x)\n",
    "        x = self.pool(x)\n",
    "        x = x.view(-1, 12 * 12 * 64)\n",
    "        self.dropout05(x)\n",
    "        x = nn.functional.relu(self.fc1(x))\n",
    "        self.dropout05(x)\n",
    "        x = self.fc2(x)\n",
    "        return x"
   ]
  },
  {
   "cell_type": "code",
   "execution_count": 28,
   "metadata": {},
   "outputs": [
    {
     "name": "stdout",
     "output_type": "stream",
     "text": [
      "5\n",
      "Start Training\n",
      "[ 1,   100] loss:  1.210\n",
      "[ 1,   200] loss:  0.331\n",
      "[ 1,   300] loss:  0.237\n",
      "[ 1,   400] loss:  0.188\n",
      "[ 1,   500] loss:  0.150\n",
      "[ 1,   600] loss:  0.126\n",
      "[ 2,   100] loss:  0.101\n",
      "[ 2,   200] loss:  0.098\n",
      "[ 2,   300] loss:  0.086\n",
      "[ 2,   400] loss:  0.081\n",
      "[ 2,   500] loss:  0.071\n",
      "[ 2,   600] loss:  0.067\n",
      "[ 3,   100] loss:  0.061\n",
      "[ 3,   200] loss:  0.060\n",
      "[ 3,   300] loss:  0.060\n",
      "[ 3,   400] loss:  0.052\n",
      "[ 3,   500] loss:  0.051\n",
      "[ 3,   600] loss:  0.055\n",
      "[ 4,   100] loss:  0.042\n",
      "[ 4,   200] loss:  0.048\n",
      "[ 4,   300] loss:  0.040\n",
      "[ 4,   400] loss:  0.043\n",
      "[ 4,   500] loss:  0.044\n",
      "[ 4,   600] loss:  0.039\n",
      "[ 5,   100] loss:  0.032\n",
      "[ 5,   200] loss:  0.030\n",
      "[ 5,   300] loss:  0.034\n",
      "[ 5,   400] loss:  0.036\n",
      "[ 5,   500] loss:  0.036\n",
      "[ 5,   600] loss:  0.040\n",
      "Finished Training\n",
      "Accuracy: 98.60 %\n"
     ]
    }
   ],
   "source": [
    "from torch import optim\n",
    "\n",
    "if __name__ == '__main__':\n",
    "    epochs = int(input())\n",
    "    \n",
    "    net = Net()\n",
    "    criterion = nn.CrossEntropyLoss()\n",
    "    optimizer = optim.SGD(\n",
    "        net.parameters(),\n",
    "        lr=0.01,  # 学習係数\n",
    "        momentum=0.8,  # 慣性係数\n",
    "        nesterov=True  \n",
    "    )\n",
    "    \n",
    "    print('Start Training')\n",
    "    \n",
    "    net.train() # train modeに設定\n",
    "    for epoch in range(1, epochs+1):\n",
    "        running_loss = 0.0\n",
    "        for i, (inputs, labels) in enumerate(trainloader, 1):\n",
    "            # zero the parameter gradients\n",
    "            optimizer.zero_grad()\n",
    "\n",
    "            # forward + backward + optimize\n",
    "            outputs = net(inputs) # forwardメソッドが実行され、Tensorオブジェクトとして出力される。\n",
    "            loss = criterion(outputs, labels) # outputsとlabelsからloss funcを計算してTensorオブジェクトとして返される。\n",
    "            loss.backward()　#  loss.item()から各parameterの勾配を計算して、parameter.gradに記憶する。\n",
    "                                         # lossはTensorオブジェクトでgrad_fnアトリビュートから全parameterを追跡できる。\n",
    "                                         # このgrad_fnの値はoutputsに記憶されていたものでoutputsから渡される。\n",
    "            optimizer.step() # parameter.gradを利用してparameterを更新\n",
    "\n",
    "            # print statistics\n",
    "            running_loss += loss.item()\n",
    "            if i % 100 == 0:\n",
    "                print(f'[{epoch: d}, {i: 5d}] loss: {running_loss/100: .3f}')\n",
    "                running_loss = 0.0\n",
    "\n",
    "    print('Finished Training')\n",
    "\n",
    "\n",
    "    correct = 0\n",
    "    total = 0\n",
    "\n",
    "    net.eval() # eval modeに設定。dropoutがdeactivateされる\n",
    "    with torch.no_grad():\n",
    "        for (images, labels) in testloader:\n",
    "            outputs = net(images)\n",
    "            _, predicted = torch.max(outputs.data, 1)\n",
    "            total += labels.size(0)\n",
    "            correct += (predicted == labels).sum().item()\n",
    "    print('Accuracy: {:.2f} %'.format(100 * float(correct/total)))"
   ]
  },
  {
   "cell_type": "code",
   "execution_count": 6,
   "metadata": {},
   "outputs": [
    {
     "data": {
      "text/plain": [
       "<matplotlib.image.AxesImage at 0x10f79f9e8>"
      ]
     },
     "execution_count": 6,
     "metadata": {},
     "output_type": "execute_result"
    },
    {
     "data": {
      "image/png": "[encoded data removed]",
      "text/plain": [
       "<Figure size 432x288 with 1 Axes>"
      ]
     },
     "metadata": {
      "needs_background": "light"
     },
     "output_type": "display_data"
    }
   ],
   "source": [
    "%matplotlib inline\n",
    "from matplotlib import pyplot as plt\n",
    "\n",
    "images, labels = iter(trainloader).next()\n",
    "plt.imshow(images[0].numpy().reshape(28, 28))"
   ]
  }
 ],
 "metadata": {
  "kernelspec": {
   "display_name": "torch_env",
   "language": "python",
   "name": "torch_env"
  },
  "language_info": {
   "codemirror_mode": {
    "name": "ipython",
    "version": 3
   },
   "file_extension": ".py",
   "mimetype": "text/x-python",
   "name": "python",
   "nbconvert_exporter": "python",
   "pygments_lexer": "ipython3",
   "version": "3.7.3"
  }
 },
 "nbformat": 4,
 "nbformat_minor": 2
}
