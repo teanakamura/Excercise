{
 "cells": [
  {
   "cell_type": "code",
   "execution_count": 1,
   "metadata": {},
   "outputs": [],
   "source": [
    "import numpy as np"
   ]
  },
  {
   "cell_type": "code",
   "execution_count": 2,
   "metadata": {},
   "outputs": [
    {
     "data": {
      "text/plain": [
       "array([[1, 2],\n",
       "       [6, 8]])"
      ]
     },
     "execution_count": 2,
     "metadata": {},
     "output_type": "execute_result"
    }
   ],
   "source": [
    "a = np.array([[1,2],[3,4]])\n",
    "b = np.array([1,2])\n",
    "a * b[:, None]"
   ]
  },
  {
   "cell_type": "code",
   "execution_count": 3,
   "metadata": {},
   "outputs": [
    {
     "data": {
      "text/plain": [
       "1308"
      ]
     },
     "execution_count": 3,
     "metadata": {},
     "output_type": "execute_result"
    }
   ],
   "source": [
    "a = np.array([\n",
    "                        [0,0,0],\n",
    "                        [1,10,100],\n",
    "                        [2,20,200],\n",
    "                        [3,30,300],\n",
    "                        [4,40,400],\n",
    "                        [5,50,500]\n",
    "                     ])\n",
    "b = np.array([\n",
    "                        [1, 2, 3],\n",
    "                        [4, 5, 6],\n",
    "                        [7, 8, 9]\n",
    "                    ])\n",
    "np.einsum('ij,ij->', a[np.array([1,0,1])], b) # dot([1,10,100], [1,2,3]) + dot([0,0,0], [4,5,6]) + dot([1,10,100], [7,8,9]) = 321 + 987"
   ]
  },
  {
   "cell_type": "code",
   "execution_count": 5,
   "metadata": {},
   "outputs": [
    {
     "data": {
      "text/plain": [
       "(array([[3, 2, 1],\n",
       "        [5, 6, 4],\n",
       "        [8, 7, 9]]), array([3, 6, 9]))"
      ]
     },
     "execution_count": 5,
     "metadata": {},
     "output_type": "execute_result"
    }
   ],
   "source": [
    "a = np.array([\n",
    "                        [1,2,3],\n",
    "                        [4,6,5],\n",
    "                        [9,7,8]\n",
    "                    ])\n",
    "idx = a.argmax(axis=1)\n",
    "a[:, idx], a[np.arange(len(a)), idx]"
   ]
  },
  {
   "cell_type": "code",
   "execution_count": null,
   "metadata": {},
   "outputs": [],
   "source": []
  }
 ],
 "metadata": {
  "kernelspec": {
   "display_name": "machinelearning_lecture",
   "language": "python",
   "name": "machinelearning_lecture"
  },
  "language_info": {
   "codemirror_mode": {
    "name": "ipython",
    "version": 3
   },
   "file_extension": ".py",
   "mimetype": "text/x-python",
   "name": "python",
   "nbconvert_exporter": "python",
   "pygments_lexer": "ipython3",
   "version": "3.7.3"
  }
 },
 "nbformat": 4,
 "nbformat_minor": 2
}
